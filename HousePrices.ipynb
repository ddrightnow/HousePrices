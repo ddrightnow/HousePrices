{
 "cells": [
  {
   "cell_type": "code",
   "execution_count": null,
   "metadata": {},
   "outputs": [],
   "source": [
    "import numpy as np\n",
    "import pandas as pd\n",
    "import matplotlib.pyplot as plt\n",
    "import csv\n",
    "import os\n",
    "import pickle\n",
    "\n",
    "from sklearn.decomposition import PCA\n",
    "from sklearn.model_selection import train_test_split\n",
    "from sklearn import preprocessing\n",
    "from sklearn.metrics import confusion_matrix\n",
    "from sklearn.metrics import accuracy_score\n",
    "from sklearn.preprocessing import Imputer\n",
    "from sklearn.preprocessing import OneHotEncoder\n",
    "from sklearn.preprocessing import LabelEncoder"
   ]
  },
  {
   "cell_type": "code",
   "execution_count": null,
   "metadata": {},
   "outputs": [],
   "source": [
    "pdwork = pd.read_csv('FinalDataSheetWork.csv')\n",
    "\n",
    "print(pdwork.head)"
   ]
  },
  {
   "cell_type": "code",
   "execution_count": null,
   "metadata": {},
   "outputs": [],
   "source": [
    "mean_imputer = Imputer(missing_values='NaN', strategy='mean', axis=0)\n",
    "# Train the imputor on the df dataset\n",
    "pdwork[\"parking\"]=mean_imputer.fit_transform(pdwork[[\"parking\"]]).ravel()\n",
    "pdwork[\"bathrooms\"]=mean_imputer.fit_transform(pdwork[[\"bathrooms\"]]).ravel()\n",
    "\n",
    "print(pdwork.isnull().any(axis=0) )"
   ]
  },
  {
   "cell_type": "code",
   "execution_count": null,
   "metadata": {},
   "outputs": [],
   "source": [
    "print(pdwork['location'])"
   ]
  },
  {
   "cell_type": "code",
   "execution_count": null,
   "metadata": {},
   "outputs": [],
   "source": [
    "print(pdwork['location'].str.strip())  #my_str = my_str.strip()\n",
    "print(pdwork['furnishingLevel'].str.strip())  "
   ]
  },
  {
   "cell_type": "code",
   "execution_count": null,
   "metadata": {},
   "outputs": [],
   "source": [
    "#labelencode\n",
    "#integer encode\n",
    "label_encoderL = LabelEncoder()\n",
    "pdwork['location'] = label_encoderL.fit_transform(pdwork['location'])\n",
    "#binL2 = pickle.dumps(label_encoderL)\n",
    "\n",
    "# encoder = LabelEncoder()\n",
    "# encoder.fit(X)\n",
    "np.save('classesL.npy', label_encoderL.classes_)\n",
    "\n",
    "label_encoderF = LabelEncoder()\n",
    "pdwork['furnishingLevel'] = label_encoderF.fit_transform(pdwork['furnishingLevel'])\n",
    "binF2 = pickle.dumps(label_encoderF)\n",
    "\n",
    "# enc = Encoder()\n",
    "# enc.fit(X_a, y_a)\n",
    "# bin = pickle.dumps(enc)\n",
    "# enc = pickle.loads(bin)\n",
    "# X_b_transformed = enc.transform(X_b, y_b)\n",
    "\n",
    "print(pdwork.head(5))"
   ]
  },
  {
   "cell_type": "code",
   "execution_count": null,
   "metadata": {},
   "outputs": [],
   "source": [
    "y = pdwork['price']\n",
    "x = pdwork.iloc[:,:-1]\n",
    "\n",
    "#print(x.head)"
   ]
  },
  {
   "cell_type": "code",
   "execution_count": null,
   "metadata": {},
   "outputs": [],
   "source": [
    "X_train, X_test, y_train, y_test = train_test_split(x, y, random_state=0)"
   ]
  },
  {
   "cell_type": "code",
   "execution_count": null,
   "metadata": {},
   "outputs": [],
   "source": [
    "from sklearn.ensemble import RandomForestClassifier\n",
    "model = RandomForestClassifier(random_state=0).fit(X_train,y_train)\n",
    "hh = model.predict(X_test)\n",
    "print ('rforest ',accuracy_score(y_test, hh))"
   ]
  },
  {
   "cell_type": "code",
   "execution_count": null,
   "metadata": {},
   "outputs": [],
   "source": [
    "# # save model\n",
    "\n",
    "# Model = model.copy()\n",
    "\n",
    "# filename = 'ModelHouse.pkl'\n",
    "# pickle.dump(model, open(filename, 'wb'))"
   ]
  },
  {
   "cell_type": "code",
   "execution_count": null,
   "metadata": {},
   "outputs": [],
   "source": [
    "# # load the model from disk\n",
    "# filename = 'ModelHouse.pkl'\n",
    "# loaded_model = pickle.load(open(filename, 'rb'))"
   ]
  }
 ],
 "metadata": {
  "kernelspec": {
   "display_name": "Python 3",
   "language": "python",
   "name": "python3"
  },
  "language_info": {
   "codemirror_mode": {
    "name": "ipython",
    "version": 3
   },
   "file_extension": ".py",
   "mimetype": "text/x-python",
   "name": "python",
   "nbconvert_exporter": "python",
   "pygments_lexer": "ipython3",
   "version": "3.6.4"
  }
 },
 "nbformat": 4,
 "nbformat_minor": 2
}
